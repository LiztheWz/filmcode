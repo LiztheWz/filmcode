{
 "cells": [
  {
   "cell_type": "code",
   "execution_count": 701,
   "metadata": {},
   "outputs": [],
   "source": [
    "from bs4 import BeautifulSoup\n",
    "import pandas as pd\n",
    "import numpy as np\n",
    "import requests\n",
    "import re\n",
    "import urllib.parse\n",
    "import matplotlib.pyplot as plt\n",
    "import seaborn as sns\n",
    "import plotly.express as px\n",
    "from pathlib import Path\n",
    "from io import StringIO\n",
    "import time"
   ]
  },
  {
   "cell_type": "code",
   "execution_count": 643,
   "metadata": {},
   "outputs": [],
   "source": [
    "pd.set_option('display.max_columns', None)\n",
    "pd.set_option('display.max_rows', None)"
   ]
  },
  {
   "cell_type": "code",
   "execution_count": 711,
   "metadata": {},
   "outputs": [],
   "source": [
    "# get API key\n",
    "with open('api2.txt', 'r') as file:\n",
    "    apikey = file.read()"
   ]
  },
  {
   "cell_type": "code",
   "execution_count": 656,
   "metadata": {},
   "outputs": [],
   "source": [
    "# Wikipedia API URL to fetch the page content\n",
    "URL = \"https://en.wikipedia.org/wiki/Academy_Award_for_Best_Picture\"\n",
    "\n",
    "# Get the page HTML\n",
    "response = requests.get(URL)\n",
    "soup = BeautifulSoup(response.text, 'html.parser')\n",
    "\n",
    "# Find all tables on the page\n",
    "tables = soup.find_all(\"table\", {\"class\": \"wikitable\"})"
   ]
  },
  {
   "cell_type": "code",
   "execution_count": 657,
   "metadata": {},
   "outputs": [],
   "source": [
    "movies = []\n",
    "\n",
    "# Track the most recent year found\n",
    "current_year = None  \n",
    "\n",
    "# Iterate through tables\n",
    "for table in tables:\n",
    "    # Convert table to DataFrame\n",
    "    try:\n",
    "        df = pd.read_html(StringIO(str(table)))[0]\n",
    "    except:\n",
    "        continue  # Skip tables that can't be read\n",
    "\n",
    "    # Check if \"Film\" is in the column names\n",
    "    if \"Film\" not in df.columns:\n",
    "        continue  # Skip tables without the correct format\n",
    "\n",
    "    # Process each row in the table\n",
    "    for row in table.find_all(\"tr\"):\n",
    "        cols = row.find_all([\"th\", \"td\"])  # Extract headers and data cells\n",
    "\n",
    "        # Check if this row contains the year\n",
    "        if cols[0].name == \"th\":  \n",
    "            current_year = cols[0].text.strip()  # Update the stored year\n",
    "            cols = cols[1:]  # Remove the year cell from further processing\n",
    "\n",
    "        if not current_year:\n",
    "            continue  # Skip rows until a year is found\n",
    "\n",
    "        # Check if this row has the yellow background (winner)\n",
    "        is_winner = 'background:#FAEB86' in row.get('style', '')\n",
    "\n",
    "        # Extract only the FIRST `<a>` tag, which is the movie name\n",
    "        for col in cols:  \n",
    "            movie_link = col.find(\"a\")  # Get the first link (movie name)\n",
    "            if not movie_link:\n",
    "                continue\n",
    "            \n",
    "            movie_name = movie_link.text.strip()\n",
    "            movie_url = \"https://en.wikipedia.org\" + movie_link[\"href\"]  # Full Wikipedia link\n",
    "\n",
    "            # Append to the results\n",
    "            movies.append((current_year, movie_name, movie_url, is_winner))\n",
    "            break  # Stop after getting the first `<a>` (ignores producer links)\n",
    "\n",
    "# Convert to DataFrame\n",
    "movies_df = pd.DataFrame(movies, columns=[\"Year\", \"Movie\", \"Wikipedia Link\", \"Winner\"])"
   ]
  },
  {
   "cell_type": "code",
   "execution_count": 658,
   "metadata": {},
   "outputs": [],
   "source": [
    "# clean the years - note: 1933 is missing??\n",
    "movies_df.loc[0:2, 'Year'] = 1927\n",
    "movies_df.loc[3:7, 'Year'] = 1928\n",
    "movies_df.loc[8:12, 'Year'] = 1929\n",
    "movies_df.loc[13:17, 'Year'] = 1930\n",
    "movies_df.loc[18:25, 'Year'] = 1931\n",
    "movies_df.loc[26:35, 'Year'] = 1932\n",
    "\n",
    "for i in range(36, len(movies_df)):\n",
    "    value = movies_df['Year'].iloc[i]  # Get the value of the 'YearString' column at the current index\n",
    "\n",
    "    # Use regex to extract the year (first 4 digits)\n",
    "    match = re.search(r'\\b(\\d{4})\\b', value)\n",
    "    \n",
    "    # If a match is found, directly update the 'Year' column with the extracted year\n",
    "    if match:\n",
    "        movies_df.at[i, 'Year'] = match.group(1)\n",
    "    else:\n",
    "        movies_df.at[i, 'Year'] = None"
   ]
  },
  {
   "cell_type": "code",
   "execution_count": null,
   "metadata": {},
   "outputs": [],
   "source": [
    "# remove disorganized years (36 total)\n",
    "movies_df = movies_df[~movies_df['Year'].isin([1927, 1928, 1929, 1930, 1931, 1932, 1933])]"
   ]
  },
  {
   "cell_type": "code",
   "execution_count": null,
   "metadata": {},
   "outputs": [],
   "source": [
    "distributors2 = []\n",
    "\n",
    "# get all the distributors\n",
    "for movie_url in movies_df['Wikipedia Link']:\n",
    "    response = requests.get(movie_url)\n",
    "    soup = BeautifulSoup(response.text, 'html.parser')\n",
    "    \n",
    "    distributed_by_row = soup.find('th', string='Distributed by')\n",
    "\n",
    "    if distributed_by_row:\n",
    "        td_element = distributed_by_row.find_next('td')\n",
    "\n",
    "        # Check if there is an anchor tag inside the <td>\n",
    "        a_tag = td_element.find('a')\n",
    "        if a_tag:\n",
    "            dist_company = a_tag.get_text(strip=True)  # Get text from <a> tag\n",
    "        else:\n",
    "            dist_company = td_element.get_text(strip=True)  # Get text directly from <td>\n",
    "    else:\n",
    "        dist_company = 'N/A'\n",
    "\n",
    "    distributors2.append(dist_company)\n"
   ]
  },
  {
   "cell_type": "code",
   "execution_count": 664,
   "metadata": {},
   "outputs": [],
   "source": [
    "# clean the distributors list\n",
    "def remove_bracketed_numbers(input_list):\n",
    "    # Remove any text within square brackets, including the brackets\n",
    "    cleaned_list = [re.sub(r'\\[\\d+\\]', '', item).strip() for item in input_list]\n",
    "    \n",
    "    # Replace empty strings with \"N/A\"\n",
    "    cleaned_list = ['N/A' if item == '' else item for item in cleaned_list]\n",
    "    \n",
    "    return cleaned_list\n",
    "\n",
    "cleaned_dist = remove_bracketed_numbers(distributors2)"
   ]
  },
  {
   "cell_type": "code",
   "execution_count": 665,
   "metadata": {},
   "outputs": [],
   "source": [
    "# add to dataframe\n",
    "movies_df['Distributor'] = cleaned_dist"
   ]
  },
  {
   "cell_type": "code",
   "execution_count": 666,
   "metadata": {},
   "outputs": [],
   "source": [
    "producers2 = []\n",
    "\n",
    "# get all the producers\n",
    "for movie_url in movies_df['Wikipedia Link']:\n",
    "    response = requests.get(movie_url)\n",
    "    soup = BeautifulSoup(response.text, 'html.parser')\n",
    "    \n",
    "    produced_by_row = soup.find('th', string='Produced by')\n",
    "\n",
    "    if produced_by_row:\n",
    "        td_element = produced_by_row.find_next('td')\n",
    "        # Check if there are any <a> tags in the <td>\n",
    "        a_tags = td_element.find_all('a')\n",
    "        if a_tags:\n",
    "            # Extract names if there are <a> tags\n",
    "            producer_names = [a_tag.get_text(strip=True) for a_tag in a_tags]\n",
    "        else:\n",
    "            # Otherwise, it's plain text in the <td>\n",
    "            producer_names = [td_element.get_text(strip=True)]\n",
    "    else:\n",
    "        producer_names = \"N/A\"\n",
    "    \n",
    "    producers2.append(producer_names)"
   ]
  },
  {
   "cell_type": "code",
   "execution_count": null,
   "metadata": {},
   "outputs": [],
   "source": [
    "# clean manually - wasn't working any other way...\n",
    "producers2[561] = ['Martin Scorsese', 'Steven Spielberg', 'Fred Berner', 'Amy Durning', 'Kristie Macosko Krieger']\n",
    "producers2[556] = ['Nikos Karamigios']\n",
    "producers2[553] = ['Erik Hemmendorff', 'Philippe Bober']\n",
    "producers2[545] = ['Joe Russo', 'Anthony Russo', 'Mike Larocca', 'Jonathan Wang']\n",
    "producers2[536] = ['Laura Berwick', 'Kenneth Branagh', 'Becca Kovacik', 'Tamar Thomas']\n",
    "producers2[535] = ['Philippe Rousselet', 'Jérôme Seydoux']\n",
    "producers2[516] = ['Bill Gerber', 'Jon Peters', 'Todd Phillips', 'Lynette Howell Taylor']\n",
    "producers2[523] = ['Bill Benz', 'Kathy Benz', 'Bert Hamelinck', 'Sacha Ben Harroche']\n",
    "producers2[436] = ['Joel Coen', 'Ethan Coen']\n",
    "producers2[365] = 'N/A'\n",
    "producers2[323] = ['Norman Jewison', 'Patrick Palmer']\n",
    "producers2[322] = ['John Boorman', 'Michael Dryhurst']\n",
    "producers2[283] = ['Tamara Asseyev', 'Alexandra Rose']\n",
    "producers2[236] = ['Bob Rafelson', 'Richard Wechsler']\n",
    "producers2[217] = ['Charles Maguire']\n",
    "producers2[126] = ['Michael Powell', 'Emeric Pressburger']\n",
    "producers2[122] = ['Anthony Havelock-Allan', 'Ronald Neame']\n",
    "producers2[105] = ['Joseph Sistrom']\n",
    "producers2[83] = ['Alfred Hitchcock', 'Harry E. Edington']\n",
    "producers2[58] = ['Frank Capra']\n",
    "producers2[50] = ['Albert Pinkovitch', 'Frank Rollmer']"
   ]
  },
  {
   "cell_type": "code",
   "execution_count": 676,
   "metadata": {},
   "outputs": [],
   "source": [
    "# add to dataframe\n",
    "movies_df['Producer(s)'] = producers2"
   ]
  },
  {
   "cell_type": "code",
   "execution_count": 677,
   "metadata": {},
   "outputs": [],
   "source": [
    "# clean the producers list\n",
    "def clean_producers(producer):\n",
    "    if isinstance(producer, list):\n",
    "        # If the producer is a list, join the names and clean\n",
    "        producer = ', '.join(producer)\n",
    "    \n",
    "    # Now clean the string (remove square brackets and strip spaces)\n",
    "    cleaned_producer = re.sub(r'[\\[\\]]', '', producer).strip()\n",
    "    \n",
    "    return cleaned_producer\n",
    "\n",
    "# Apply the function to the 'Producer(s)' column\n",
    "movies_df['Producer(s)'] = movies_df['Producer(s)'].apply(clean_producers)\n"
   ]
  },
  {
   "cell_type": "code",
   "execution_count": 729,
   "metadata": {},
   "outputs": [],
   "source": [
    "movies_df.reset_index(drop=True, inplace=True) # reset the index so it doesn't start at [36]\n",
    "movies_df= movies_df.drop('Wikipedia Link', axis=1) # get rid of link column"
   ]
  },
  {
   "cell_type": "code",
   "execution_count": 683,
   "metadata": {},
   "outputs": [],
   "source": [
    "# identify the years and separate into decades column\n",
    "movies_df['Year'] = pd.to_numeric(movies_df['Year'], errors='coerce')\n",
    "bins = [1930, 1940, 1950, 1960, 1970, 1980, 1990, 2000, 2010, 2020, 2030]\n",
    "labels = ['1930s', '1940s', '1950s', '1960s', '1970s', '1980s', '1990s', '2000s', '2010s', '2020s']\n",
    "movies_df['Decade'] = pd.cut(movies_df['Year'], bins=bins, labels=labels, right=False, include_lowest=True)"
   ]
  },
  {
   "cell_type": "code",
   "execution_count": null,
   "metadata": {},
   "outputs": [],
   "source": [
    "# testing to see if it works just with the title\n",
    "\n",
    "# runtimes2 = []\n",
    "# genres2 = []\n",
    "# writers2 = []\n",
    "# revenue2 = []\n",
    "# actors2 = []\n",
    "# ratings2 = []\n",
    "\n",
    "# for movie in movies_df['Movie']:\n",
    "\n",
    "#     parameters = {'apikey': apikey, \n",
    "#                   't': movie}\n",
    "    \n",
    "#     response = requests.get('http://www.omdbapi.com', params=parameters)\n",
    "#     movie_info = response.json()\n",
    "\n",
    "    # length2 = movie_info.get('Runtime', 'N/A')\n",
    "    # runtimes2.append(length2)\n",
    "\n",
    "    # genre2 = movie_info.get('Genre', 'N/A')\n",
    "    # genres2.append(genre2)\n",
    "\n",
    "    # writer2 = movie_info.get('Writer', 'N/A')\n",
    "    # writers2.append(writer2)\n",
    "\n",
    "    # box_office2 = movie_info.get('BoxOffice', 'N/A')\n",
    "    # revenue2.append(box_office2)\n",
    "\n",
    "    # actor2 = movie_info.get('Actors', 'N/A')\n",
    "    # actors2.append(actor2)\n",
    "\n",
    "    # rating2 = movie_info.get('imdbRating', 'N/A')\n",
    "    # ratings2.append(rating2)"
   ]
  },
  {
   "cell_type": "code",
   "execution_count": 721,
   "metadata": {},
   "outputs": [],
   "source": [
    "# get more info\n",
    "\n",
    "runtimes3 = []\n",
    "genres3 = []\n",
    "writers3 = []\n",
    "revenue3 = []\n",
    "actors3 = []\n",
    "ratings3 = []\n",
    "directors3 = []\n",
    "\n",
    "for index, movie in movies_df.iterrows():\n",
    "    \n",
    "    parameters = {\n",
    "        'apikey': apikey,\n",
    "        't': movie['Movie'],  # The movie title\n",
    "        'y': movie['Year']    # The year of the movie (because two movies could have the same title)\n",
    "    }\n",
    "    \n",
    "    response = requests.get('http://www.omdbapi.com', params=parameters)\n",
    "    movie_info = response.json()\n",
    "    \n",
    "    length3 = movie_info.get('Runtime', 'N/A')\n",
    "    runtimes3.append(length3)\n",
    "\n",
    "    genre3 = movie_info.get('Genre', 'N/A')\n",
    "    genres3.append(genre3)\n",
    "\n",
    "    writer3 = movie_info.get('Writer', 'N/A')\n",
    "    writers3.append(writer3)\n",
    "\n",
    "    box_office3 = movie_info.get('BoxOffice', 'N/A')\n",
    "    revenue3.append(box_office3)\n",
    "\n",
    "    actor3 = movie_info.get('Actors', 'N/A')\n",
    "    actors3.append(actor3)\n",
    "\n",
    "    rating3 = movie_info.get('imdbRating', 'N/A')\n",
    "    ratings3.append(rating3)\n",
    "\n",
    "    director3 = movie_info.get('Director', 'N/A')\n",
    "    directors3.append(director3)\n",
    "\n",
    "time.sleep(1)"
   ]
  },
  {
   "cell_type": "code",
   "execution_count": 749,
   "metadata": {},
   "outputs": [],
   "source": [
    "# add to dataframe\n",
    "movies_df['Runtime (min)'] = runtimes3\n",
    "movies_df['Genre'] = genres3\n",
    "movies_df['Writer(s)'] = writers3\n",
    "movies_df['BoxOffice'] = revenue3\n",
    "movies_df['Actors'] = actors3\n",
    "movies_df['IMDbRating'] = ratings3\n",
    "movies_df['Director'] = directors3"
   ]
  },
  {
   "cell_type": "code",
   "execution_count": 750,
   "metadata": {},
   "outputs": [],
   "source": [
    "# rearrange columns\n",
    "movies_df = movies_df[['Year', 'Decade', 'Winner', 'Movie', 'IMDbRating', 'Runtime', 'Director', 'Actors', 'Writer(s)', 'Distributor', 'Producer(s)', 'Genre', 'BoxOffice']]"
   ]
  },
  {
   "cell_type": "code",
   "execution_count": 785,
   "metadata": {},
   "outputs": [
    {
     "data": {
      "text/plain": [
       "Year              int64\n",
       "Decade         category\n",
       "Winner             bool\n",
       "Movie            object\n",
       "IMDbRating      float64\n",
       "Runtime         float64\n",
       "Director         object\n",
       "Actors           object\n",
       "Writer(s)        object\n",
       "Distributor      object\n",
       "Producer(s)      object\n",
       "Genre            object\n",
       "BoxOffice       float64\n",
       "dtype: object"
      ]
     },
     "execution_count": 785,
     "metadata": {},
     "output_type": "execute_result"
    }
   ],
   "source": [
    "# check types\n",
    "movies_df.dtypes"
   ]
  },
  {
   "cell_type": "code",
   "execution_count": 751,
   "metadata": {},
   "outputs": [
    {
     "name": "stderr",
     "output_type": "stream",
     "text": [
      "/var/folders/8j/sxj04lqn4qg7hs60l9b18t300000gn/T/ipykernel_18007/973084856.py:2: SettingWithCopyWarning: \n",
      "A value is trying to be set on a copy of a slice from a DataFrame\n",
      "\n",
      "See the caveats in the documentation: https://pandas.pydata.org/pandas-docs/stable/user_guide/indexing.html#returning-a-view-versus-a-copy\n",
      "  movies_df.replace('N/A', np.nan, inplace=True)\n"
     ]
    }
   ],
   "source": [
    "# replace all the N/A with NaN\n",
    "movies_df.replace('N/A', np.nan, inplace=True)"
   ]
  },
  {
   "cell_type": "code",
   "execution_count": 760,
   "metadata": {},
   "outputs": [],
   "source": [
    "# remove all the minutes phrase and convert to float type\n",
    "#movies_df['Runtime'] = movies_df['Runtime'].str.replace(' min', '').str.strip()\n",
    "#movies_df['Runtime'] = pd.to_numeric(movies_df['Runtime'], errors='coerce')"
   ]
  },
  {
   "cell_type": "code",
   "execution_count": 783,
   "metadata": {},
   "outputs": [
    {
     "name": "stderr",
     "output_type": "stream",
     "text": [
      "<>:1: SyntaxWarning: invalid escape sequence '\\$'\n",
      "<>:1: SyntaxWarning: invalid escape sequence '\\$'\n",
      "/var/folders/8j/sxj04lqn4qg7hs60l9b18t300000gn/T/ipykernel_18007/3050680495.py:1: SyntaxWarning: invalid escape sequence '\\$'\n",
      "  movies_df['BoxOffice'] = movies_df['BoxOffice'].replace({'\\$': '', ',': ''}, regex=True)\n",
      "/var/folders/8j/sxj04lqn4qg7hs60l9b18t300000gn/T/ipykernel_18007/3050680495.py:1: SettingWithCopyWarning: \n",
      "A value is trying to be set on a copy of a slice from a DataFrame.\n",
      "Try using .loc[row_indexer,col_indexer] = value instead\n",
      "\n",
      "See the caveats in the documentation: https://pandas.pydata.org/pandas-docs/stable/user_guide/indexing.html#returning-a-view-versus-a-copy\n",
      "  movies_df['BoxOffice'] = movies_df['BoxOffice'].replace({'\\$': '', ',': ''}, regex=True)\n",
      "/var/folders/8j/sxj04lqn4qg7hs60l9b18t300000gn/T/ipykernel_18007/3050680495.py:2: SettingWithCopyWarning: \n",
      "A value is trying to be set on a copy of a slice from a DataFrame.\n",
      "Try using .loc[row_indexer,col_indexer] = value instead\n",
      "\n",
      "See the caveats in the documentation: https://pandas.pydata.org/pandas-docs/stable/user_guide/indexing.html#returning-a-view-versus-a-copy\n",
      "  movies_df['BoxOffice'] = movies_df['BoxOffice'].astype(float)\n"
     ]
    }
   ],
   "source": [
    "movies_df['BoxOffice'] = movies_df['BoxOffice'].replace({'\\$': '', ',': ''}, regex=True)\n",
    "movies_df['BoxOffice'] = movies_df['BoxOffice'].astype(float)"
   ]
  },
  {
   "cell_type": "code",
   "execution_count": 779,
   "metadata": {},
   "outputs": [
    {
     "name": "stderr",
     "output_type": "stream",
     "text": [
      "/var/folders/8j/sxj04lqn4qg7hs60l9b18t300000gn/T/ipykernel_18007/2222654797.py:2: SettingWithCopyWarning: \n",
      "A value is trying to be set on a copy of a slice from a DataFrame.\n",
      "Try using .loc[row_indexer,col_indexer] = value instead\n",
      "\n",
      "See the caveats in the documentation: https://pandas.pydata.org/pandas-docs/stable/user_guide/indexing.html#returning-a-view-versus-a-copy\n",
      "  movies_df['IMDbRating'] = movies_df['IMDbRating'].astype(float)\n"
     ]
    }
   ],
   "source": [
    "# change to float types\n",
    "movies_df['IMDbRating'] = movies_df['IMDbRating'].astype(float)"
   ]
  },
  {
   "cell_type": "code",
   "execution_count": 787,
   "metadata": {},
   "outputs": [
    {
     "data": {
      "text/plain": [
       "Year              int64\n",
       "Decade         category\n",
       "Winner             bool\n",
       "Movie            object\n",
       "IMDbRating      float64\n",
       "Runtime         float64\n",
       "Director         object\n",
       "Actors           object\n",
       "Writer(s)        object\n",
       "Distributor      object\n",
       "Producer(s)      object\n",
       "Genre            object\n",
       "BoxOffice       float64\n",
       "dtype: object"
      ]
     },
     "execution_count": 787,
     "metadata": {},
     "output_type": "execute_result"
    }
   ],
   "source": [
    "movies_df.dtypes"
   ]
  },
  {
   "cell_type": "code",
   "execution_count": 788,
   "metadata": {},
   "outputs": [],
   "source": [
    "# save as csv\n",
    "movies_df.to_csv('best_pic_nominees_winners.csv', index=False)"
   ]
  },
  {
   "cell_type": "code",
   "execution_count": 792,
   "metadata": {},
   "outputs": [
    {
     "data": {
      "text/html": [
       "<div>\n",
       "<style scoped>\n",
       "    .dataframe tbody tr th:only-of-type {\n",
       "        vertical-align: middle;\n",
       "    }\n",
       "\n",
       "    .dataframe tbody tr th {\n",
       "        vertical-align: top;\n",
       "    }\n",
       "\n",
       "    .dataframe thead th {\n",
       "        text-align: right;\n",
       "    }\n",
       "</style>\n",
       "<table border=\"1\" class=\"dataframe\">\n",
       "  <thead>\n",
       "    <tr style=\"text-align: right;\">\n",
       "      <th></th>\n",
       "      <th>Year</th>\n",
       "      <th>Decade</th>\n",
       "      <th>Winner</th>\n",
       "      <th>Movie</th>\n",
       "      <th>IMDbRating</th>\n",
       "      <th>Runtime</th>\n",
       "      <th>Director</th>\n",
       "      <th>Actors</th>\n",
       "      <th>Writer(s)</th>\n",
       "      <th>Distributor</th>\n",
       "      <th>Producer(s)</th>\n",
       "      <th>Genre</th>\n",
       "      <th>BoxOffice</th>\n",
       "    </tr>\n",
       "  </thead>\n",
       "  <tbody>\n",
       "    <tr>\n",
       "      <th>0</th>\n",
       "      <td>1934</td>\n",
       "      <td>1930s</td>\n",
       "      <td>True</td>\n",
       "      <td>It Happened One Night</td>\n",
       "      <td>8.1</td>\n",
       "      <td>105.0</td>\n",
       "      <td>Frank Capra</td>\n",
       "      <td>Clark Gable, Claudette Colbert, Walter Connolly</td>\n",
       "      <td>Robert Riskin, Samuel Hopkins Adams</td>\n",
       "      <td>Columbia Pictures</td>\n",
       "      <td>Harry Cohn</td>\n",
       "      <td>Comedy, Romance</td>\n",
       "      <td>NaN</td>\n",
       "    </tr>\n",
       "    <tr>\n",
       "      <th>1</th>\n",
       "      <td>1934</td>\n",
       "      <td>1930s</td>\n",
       "      <td>False</td>\n",
       "      <td>The Barretts of Wimpole Street</td>\n",
       "      <td>6.9</td>\n",
       "      <td>109.0</td>\n",
       "      <td>Sidney Franklin</td>\n",
       "      <td>Norma Shearer, Fredric March, Charles Laughton</td>\n",
       "      <td>Rudolph Besier, Ernest Vajda, Claudine West</td>\n",
       "      <td>Metro-Goldwyn-Mayer</td>\n",
       "      <td>Irving Thalberg</td>\n",
       "      <td>Biography, Drama, Romance</td>\n",
       "      <td>NaN</td>\n",
       "    </tr>\n",
       "    <tr>\n",
       "      <th>2</th>\n",
       "      <td>1934</td>\n",
       "      <td>1930s</td>\n",
       "      <td>False</td>\n",
       "      <td>Cleopatra</td>\n",
       "      <td>6.8</td>\n",
       "      <td>100.0</td>\n",
       "      <td>Cecil B. DeMille</td>\n",
       "      <td>Claudette Colbert, Warren William, Henry Wilcoxon</td>\n",
       "      <td>Waldemar Young, Vincent Lawrence, Bartlett Cor...</td>\n",
       "      <td>Paramount Pictures</td>\n",
       "      <td>Cecil B. DeMille</td>\n",
       "      <td>Biography, Drama, History</td>\n",
       "      <td>NaN</td>\n",
       "    </tr>\n",
       "    <tr>\n",
       "      <th>3</th>\n",
       "      <td>1934</td>\n",
       "      <td>1930s</td>\n",
       "      <td>False</td>\n",
       "      <td>Flirtation Walk</td>\n",
       "      <td>5.6</td>\n",
       "      <td>97.0</td>\n",
       "      <td>Frank Borzage</td>\n",
       "      <td>Dick Powell, Ruby Keeler, Pat O'Brien</td>\n",
       "      <td>Delmer Daves, Louis F. Edelman</td>\n",
       "      <td>Warner Bros.</td>\n",
       "      <td>Robert Lord</td>\n",
       "      <td>Musical</td>\n",
       "      <td>NaN</td>\n",
       "    </tr>\n",
       "    <tr>\n",
       "      <th>4</th>\n",
       "      <td>1934</td>\n",
       "      <td>1930s</td>\n",
       "      <td>False</td>\n",
       "      <td>The Gay Divorcee</td>\n",
       "      <td>7.4</td>\n",
       "      <td>107.0</td>\n",
       "      <td>Mark Sandrich</td>\n",
       "      <td>Fred Astaire, Ginger Rogers, Alice Brady</td>\n",
       "      <td>Dwight Taylor, Kenneth S. Webb, Samuel Hoffens...</td>\n",
       "      <td>RKO Radio Pictures</td>\n",
       "      <td>Pandro S. Berman</td>\n",
       "      <td>Comedy, Musical, Romance</td>\n",
       "      <td>NaN</td>\n",
       "    </tr>\n",
       "  </tbody>\n",
       "</table>\n",
       "</div>"
      ],
      "text/plain": [
       "   Year Decade  Winner                           Movie  IMDbRating  Runtime  \\\n",
       "0  1934  1930s    True           It Happened One Night         8.1    105.0   \n",
       "1  1934  1930s   False  The Barretts of Wimpole Street         6.9    109.0   \n",
       "2  1934  1930s   False                       Cleopatra         6.8    100.0   \n",
       "3  1934  1930s   False                 Flirtation Walk         5.6     97.0   \n",
       "4  1934  1930s   False                The Gay Divorcee         7.4    107.0   \n",
       "\n",
       "           Director                                             Actors  \\\n",
       "0       Frank Capra    Clark Gable, Claudette Colbert, Walter Connolly   \n",
       "1   Sidney Franklin     Norma Shearer, Fredric March, Charles Laughton   \n",
       "2  Cecil B. DeMille  Claudette Colbert, Warren William, Henry Wilcoxon   \n",
       "3     Frank Borzage              Dick Powell, Ruby Keeler, Pat O'Brien   \n",
       "4     Mark Sandrich           Fred Astaire, Ginger Rogers, Alice Brady   \n",
       "\n",
       "                                           Writer(s)          Distributor  \\\n",
       "0                Robert Riskin, Samuel Hopkins Adams    Columbia Pictures   \n",
       "1        Rudolph Besier, Ernest Vajda, Claudine West  Metro-Goldwyn-Mayer   \n",
       "2  Waldemar Young, Vincent Lawrence, Bartlett Cor...   Paramount Pictures   \n",
       "3                     Delmer Daves, Louis F. Edelman         Warner Bros.   \n",
       "4  Dwight Taylor, Kenneth S. Webb, Samuel Hoffens...   RKO Radio Pictures   \n",
       "\n",
       "        Producer(s)                      Genre  BoxOffice  \n",
       "0        Harry Cohn            Comedy, Romance        NaN  \n",
       "1   Irving Thalberg  Biography, Drama, Romance        NaN  \n",
       "2  Cecil B. DeMille  Biography, Drama, History        NaN  \n",
       "3       Robert Lord                    Musical        NaN  \n",
       "4  Pandro S. Berman   Comedy, Musical, Romance        NaN  "
      ]
     },
     "execution_count": 792,
     "metadata": {},
     "output_type": "execute_result"
    }
   ],
   "source": [
    "movies_df.head()"
   ]
  },
  {
   "cell_type": "code",
   "execution_count": 795,
   "metadata": {},
   "outputs": [
    {
     "data": {
      "text/plain": [
       "Winner\n",
       "False    484\n",
       "True      91\n",
       "Name: count, dtype: int64"
      ]
     },
     "execution_count": 795,
     "metadata": {},
     "output_type": "execute_result"
    }
   ],
   "source": [
    "movies_df['Winner'].value_counts()"
   ]
  },
  {
   "cell_type": "code",
   "execution_count": 805,
   "metadata": {},
   "outputs": [
    {
     "data": {
      "image/png": "[encoded data removed]",
      "text/plain": [
       "<Figure size 640x480 with 1 Axes>"
      ]
     },
     "metadata": {},
     "output_type": "display_data"
    }
   ],
   "source": [
    "sns.histplot(data=movies_df, x='IMDbRating', hue='Winner', kde=True, bins=20)\n",
    "\n",
    "plt.title('Distribution of IMDb Ratings for Best Picture Winners vs Nominees')\n",
    "plt.xlabel('IMDb Rating')\n",
    "plt.ylabel('Frequency')\n",
    "plt.show()"
   ]
  },
  {
   "cell_type": "code",
   "execution_count": 809,
   "metadata": {},
   "outputs": [
    {
     "data": {
      "image/png": "[encoded data removed]",
      "text/plain": [
       "<Figure size 640x480 with 1 Axes>"
      ]
     },
     "metadata": {},
     "output_type": "display_data"
    }
   ],
   "source": [
    "sns.histplot(data=movies_df, x='Runtime', hue='Winner', kde=True, bins=20)\n",
    "\n",
    "plt.title('Distribution of Runtimes for Best Picture Winners vs Nominees')\n",
    "plt.xlabel('Runtime (minutes)')\n",
    "plt.ylabel('Frequency')\n",
    "plt.show()"
   ]
  },
  {
   "cell_type": "code",
   "execution_count": 810,
   "metadata": {},
   "outputs": [
    {
     "data": {
      "image/png": "[encoded data removed]",
      "text/plain": [
       "<Figure size 640x480 with 1 Axes>"
      ]
     },
     "metadata": {},
     "output_type": "display_data"
    }
   ],
   "source": [
    "sns.histplot(data=movies_df, x='BoxOffice', hue='Winner', kde=True, bins=20)\n",
    "\n",
    "plt.title('Distribution of Box Office for Best Picture Winners vs Nominees')\n",
    "plt.xlabel('Box Office (dollars)')\n",
    "plt.ylabel('Frequency')\n",
    "plt.show()"
   ]
  },
  {
   "cell_type": "code",
   "execution_count": 811,
   "metadata": {},
   "outputs": [
    {
     "name": "stdout",
     "output_type": "stream",
     "text": [
      "     Decade              Director  count\n",
      "79    1930s           Frank Capra      5\n",
      "637   1940s                   nan      6\n",
      "735   1950s        George Stevens      4\n",
      "1237  1960s        Stanley Kramer      3\n",
      "1352  1970s  Francis Ford Coppola      4\n",
      "1881  1980s      Steven Spielberg      3\n",
      "1994  1990s        Frank Darabont      2\n",
      "2280  2000s        Clint Eastwood      3\n",
      "2838  2010s      Steven Spielberg      4\n",
      "2937  2020s      Denis Villeneuve      2\n"
     ]
    },
    {
     "name": "stderr",
     "output_type": "stream",
     "text": [
      "/var/folders/8j/sxj04lqn4qg7hs60l9b18t300000gn/T/ipykernel_18007/3246212829.py:10: FutureWarning: The default of observed=False is deprecated and will be changed to True in a future version of pandas. Pass observed=False to retain current behavior or observed=True to adopt the future default and silence this warning.\n",
      "  director_counts = directors_expanded.groupby(['Decade', 'Director']).size().reset_index(name='count')\n",
      "/var/folders/8j/sxj04lqn4qg7hs60l9b18t300000gn/T/ipykernel_18007/3246212829.py:13: FutureWarning: The default of observed=False is deprecated and will be changed to True in a future version of pandas. Pass observed=False to retain current behavior or observed=True to adopt the future default and silence this warning.\n",
      "  most_common_directors = director_counts.loc[director_counts.groupby('Decade')['count'].idxmax()]\n"
     ]
    }
   ],
   "source": [
    "# Split the 'director' column into individual directors if there are multiple directors listed in one cell\n",
    "# (Assuming the 'director' column contains a list or comma-separated values)\n",
    "#movies_df['Director'] = movies_df['Director'].apply(lambda x: x.split(',') if isinstance(x, str) else [x])\n",
    "\n",
    "# Create a new DataFrame where each director is counted for each decade\n",
    "# Exploding the 'director' column to have one director per row for counting\n",
    "directors_expanded = movies_df.explode('Director')\n",
    "\n",
    "# Group by 'decade' and 'director', then count occurrences\n",
    "director_counts = directors_expanded.groupby(['Decade', 'Director']).size().reset_index(name='count')\n",
    "\n",
    "# For each decade, get the most common director\n",
    "most_common_directors = director_counts.loc[director_counts.groupby('Decade')['count'].idxmax()]\n",
    "\n",
    "# Display the most common directors for each decade\n",
    "print(most_common_directors)"
   ]
  },
  {
   "cell_type": "code",
   "execution_count": 818,
   "metadata": {},
   "outputs": [],
   "source": [
    "winners_df = movies_df[movies_df['Winner'] == True]\n",
    "non_winners_df = movies_df[movies_df['Winner'] == False]"
   ]
  },
  {
   "cell_type": "code",
   "execution_count": 822,
   "metadata": {},
   "outputs": [
    {
     "name": "stdout",
     "output_type": "stream",
     "text": [
      "Genre Counts for Winners:\n",
      "Genre\n",
      "Drama        82\n",
      "Romance      22\n",
      "Biography    20\n",
      "Comedy       19\n",
      "Crime        12\n",
      "Adventure    10\n",
      "War          10\n",
      "History      10\n",
      "Musical       7\n",
      "Family        6\n",
      "Thriller      6\n",
      "Music         4\n",
      "Mystery       3\n",
      "Action        3\n",
      "Sport         3\n",
      "Film-Noir     2\n",
      "nan           2\n",
      "Western       2\n",
      "Fantasy       2\n",
      "Short         1\n",
      "Name: count, dtype: int64\n",
      "\n",
      "Genre Counts for Non-Winners:\n",
      "Genre\n",
      "Drama        410\n",
      "Romance      135\n",
      "Comedy       108\n",
      "Biography     90\n",
      "Crime         56\n",
      "Adventure     56\n",
      "History       50\n",
      "Action        33\n",
      "Thriller      31\n",
      "Mystery       30\n",
      "War           29\n",
      "Music         26\n",
      "Fantasy       26\n",
      "Family        24\n",
      "Musical       20\n",
      "nan           20\n",
      "Western       12\n",
      "Sci-Fi        12\n",
      "Film-Noir      9\n",
      "Sport          7\n",
      "Horror         4\n",
      "Animation      3\n",
      "Name: count, dtype: int64\n"
     ]
    }
   ],
   "source": [
    "# comparison of genres\n",
    "def get_genre_counts(movies_df):\n",
    "    # separate each genre into a row\n",
    "    exploded_category = movies_df['Genre'].str.split(',').explode().str.strip()\n",
    "    return exploded_category.value_counts()\n",
    "\n",
    "# count winners vs non-winners\n",
    "genre_counts_winners = get_genre_counts(winners_df)\n",
    "genre_counts_non_winners = get_genre_counts(non_winners_df)\n",
    "\n",
    "print(\"Genre Counts for Winners:\")\n",
    "print(genre_counts_winners)\n",
    "\n",
    "print(\"\\nGenre Counts for Non-Winners:\")\n",
    "print(genre_counts_non_winners)"
   ]
  }
 ],
 "metadata": {
  "kernelspec": {
   "display_name": "my_env",
   "language": "python",
   "name": "python3"
  },
  "language_info": {
   "codemirror_mode": {
    "name": "ipython",
    "version": 3
   },
   "file_extension": ".py",
   "mimetype": "text/x-python",
   "name": "python",
   "nbconvert_exporter": "python",
   "pygments_lexer": "ipython3",
   "version": "3.12.8"
  }
 },
 "nbformat": 4,
 "nbformat_minor": 2
}
