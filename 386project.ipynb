{
 "cells": [
  {
   "cell_type": "code",
   "execution_count": null,
   "metadata": {},
   "outputs": [],
   "source": [
    "#director, lead actors, writers, producers, genre, budget, film length, revenue"
   ]
  },
  {
   "cell_type": "code",
   "execution_count": 1,
   "metadata": {},
   "outputs": [],
   "source": [
    "import pandas as pd\n",
    "import numpy as np\n",
    "import requests\n",
    "from bs4 import BeautifulSoup"
   ]
  },
  {
   "cell_type": "code",
   "execution_count": 2,
   "metadata": {},
   "outputs": [],
   "source": [
    "url = \"https://editorial.rottentomatoes.com/guide/oscars-best-and-worst-best-pictures/\"\n",
    "r = requests.get(url)"
   ]
  },
  {
   "cell_type": "code",
   "execution_count": 3,
   "metadata": {},
   "outputs": [],
   "source": [
    "text = r.text\n",
    "soup = BeautifulSoup(r.text, 'html.parser')"
   ]
  },
  {
   "cell_type": "code",
   "execution_count": 4,
   "metadata": {},
   "outputs": [],
   "source": [
    "div_tags = soup.find_all('div', {'class': 'article_movie_title'})"
   ]
  },
  {
   "cell_type": "code",
   "execution_count": 5,
   "metadata": {},
   "outputs": [],
   "source": [
    "titles = []\n",
    "for div in div_tags:\n",
    "    a_tags = div.find_all('a')\n",
    "    for a in a_tags:\n",
    "        titles.append(a.get_text().strip())"
   ]
  },
  {
   "cell_type": "code",
   "execution_count": 6,
   "metadata": {},
   "outputs": [],
   "source": [
    "year_tag = soup.find_all(\"span\", {\"class\":\"subtle start-year\"})\n",
    "\n",
    "years = []\n",
    "for entry in year_tag:\n",
    "    year = entry.get_text().strip()\n",
    "    year = year.replace(\"(\",\"\").replace(\")\",\"\")\n",
    "    year = int(year)\n",
    "    years.append(year)"
   ]
  },
  {
   "cell_type": "code",
   "execution_count": 7,
   "metadata": {},
   "outputs": [],
   "source": [
    "director_tags = soup.find_all('div', {'class': 'info director'})"
   ]
  },
  {
   "cell_type": "code",
   "execution_count": 8,
   "metadata": {},
   "outputs": [],
   "source": [
    "directors = []\n",
    "for d in director_tags:\n",
    "    directors.append(d.get_text().strip().replace('Directed By:', '').strip())"
   ]
  },
  {
   "cell_type": "code",
   "execution_count": 9,
   "metadata": {},
   "outputs": [],
   "source": [
    "# actor_tags = soup.find_all('div', {'class': 'info cast'})"
   ]
  },
  {
   "cell_type": "code",
   "execution_count": 10,
   "metadata": {},
   "outputs": [],
   "source": [
    "# names = []\n",
    "# for actor in actor_tags:\n",
    "#     a_tags = a.find_all('a')\n",
    "#     for a in a_tags:\n",
    "#         names.append(a.get_text().strip())\n",
    "    \n",
    "    # name = a.get_text().strip().replace('Starring:', '').strip()\n",
    "    # names.append(name)\n",
    "    # for n in names:\n",
    "    #     print(n)"
   ]
  },
  {
   "cell_type": "code",
   "execution_count": 11,
   "metadata": {},
   "outputs": [],
   "source": [
    "# actors = []\n",
    "# for a in actor_tags:\n",
    "#     a_tags = a.find_all('a')\n",
    "#     for b in a_tags:\n",
    "#         actors.append(b.get_text().strip())"
   ]
  },
  {
   "cell_type": "code",
   "execution_count": 12,
   "metadata": {},
   "outputs": [],
   "source": [
    "# actors"
   ]
  },
  {
   "cell_type": "code",
   "execution_count": 20,
   "metadata": {},
   "outputs": [],
   "source": [
    "links = []\n",
    "for div in div_tags:\n",
    "    link = div.find(\"a\")[\"href\"]\n",
    "    links.append(link)"
   ]
  },
  {
   "cell_type": "code",
   "execution_count": 21,
   "metadata": {},
   "outputs": [],
   "source": [
    "producers = []\n",
    "distributors = []\n",
    "\n",
    "for link in links:\n",
    "    r_sub = requests.get(link)\n",
    "    soup_sub = BeautifulSoup(r_sub.text)\n",
    "    try:\n",
    "        distributor = soup_sub.find(\"rt-text\", {\"data-qa\": \"item-value\"}).get_text().strip()\n",
    "        distributors.append(distributor)\n",
    "    except:     \n",
    "        distributors.append(\"None\")\n",
    "    # try:\n",
    "    #     producer = soup_sub.find(\"rt-link\", {\"href\": \"/celebrity/\"}).get_text().strip()\n",
    "    #     producers.append(producer)\n",
    "        \n",
    "    # except:\n",
    "    #     producers.append(\"None\")"
   ]
  },
  {
   "cell_type": "code",
   "execution_count": 18,
   "metadata": {},
   "outputs": [],
   "source": [
    "with open('omdb_api.txt', 'r') as file:\n",
    "    apikey = file.read()"
   ]
  },
  {
   "cell_type": "code",
   "execution_count": 59,
   "metadata": {},
   "outputs": [],
   "source": [
    "parameters = {'apikey': apikey, \n",
    "             't': 'parasite'}"
   ]
  },
  {
   "cell_type": "code",
   "execution_count": 60,
   "metadata": {},
   "outputs": [
    {
     "name": "stdout",
     "output_type": "stream",
     "text": [
      "True\n",
      "http://www.omdbapi.com/?apikey=6e062c76&t=parasite\n",
      "200\n"
     ]
    }
   ],
   "source": [
    "response = requests.get('http://www.omdbapi.com', params=parameters)\n",
    "print(response.ok)\n",
    "print(response.url)"
   ]
  },
  {
   "cell_type": "code",
   "execution_count": 70,
   "metadata": {},
   "outputs": [
    {
     "data": {
      "text/plain": [
       "'132 min'"
      ]
     },
     "execution_count": 70,
     "metadata": {},
     "output_type": "execute_result"
    }
   ],
   "source": [
    "film_info = response.json()\n",
    "film_info['Runtime']"
   ]
  },
  {
   "cell_type": "code",
   "execution_count": 90,
   "metadata": {},
   "outputs": [],
   "source": [
    "runtimes = []\n",
    "genres = []\n",
    "writers = []\n",
    "revenue = []\n",
    "actors = []\n",
    "\n",
    "for title in titles:\n",
    "    parameters = {'apikey': apikey, \n",
    "             't': title}\n",
    "    \n",
    "    response = requests.get('http://www.omdbapi.com', params=parameters)\n",
    "\n",
    "    film_info = response.json()\n",
    "    length = film_info['Runtime']\n",
    "    runtimes.append(length)\n",
    "    genre = film_info['Genre']\n",
    "    genres.append(genre)\n",
    "    writer = film_info['Writer']\n",
    "    writers.append(writer)\n",
    "    box_office = film_info['BoxOffice']\n",
    "    revenue.append(box_office)\n",
    "    actor = film_info['Actors']\n",
    "    actors.append(actors)"
   ]
  },
  {
   "cell_type": "code",
   "execution_count": 97,
   "metadata": {},
   "outputs": [
    {
     "data": {
      "text/plain": [
       "'Bessie Love, Anita Page, Charles King'"
      ]
     },
     "execution_count": 97,
     "metadata": {},
     "output_type": "execute_result"
    }
   ],
   "source": [
    "film_info['Actors']"
   ]
  },
  {
   "cell_type": "code",
   "execution_count": 99,
   "metadata": {},
   "outputs": [
    {
     "data": {
      "text/html": [
       "<div>\n",
       "<style scoped>\n",
       "    .dataframe tbody tr th:only-of-type {\n",
       "        vertical-align: middle;\n",
       "    }\n",
       "\n",
       "    .dataframe tbody tr th {\n",
       "        vertical-align: top;\n",
       "    }\n",
       "\n",
       "    .dataframe thead th {\n",
       "        text-align: right;\n",
       "    }\n",
       "</style>\n",
       "<table border=\"1\" class=\"dataframe\">\n",
       "  <thead>\n",
       "    <tr style=\"text-align: right;\">\n",
       "      <th></th>\n",
       "      <th>Movie Title</th>\n",
       "      <th>Year Released</th>\n",
       "      <th>Director</th>\n",
       "      <th>Distributor</th>\n",
       "      <th>Runtime</th>\n",
       "      <th>Genre</th>\n",
       "      <th>Writer(s)</th>\n",
       "      <th>Box Office</th>\n",
       "    </tr>\n",
       "  </thead>\n",
       "  <tbody>\n",
       "    <tr>\n",
       "      <th>0</th>\n",
       "      <td>Parasite</td>\n",
       "      <td>2019</td>\n",
       "      <td>Bong Joon Ho</td>\n",
       "      <td>NEON</td>\n",
       "      <td>132 min</td>\n",
       "      <td>Drama, Thriller</td>\n",
       "      <td>Bong Joon Ho, Han Jin-won</td>\n",
       "      <td>$53,369,749</td>\n",
       "    </tr>\n",
       "    <tr>\n",
       "      <th>1</th>\n",
       "      <td>Casablanca</td>\n",
       "      <td>1942</td>\n",
       "      <td>Michael Curtiz</td>\n",
       "      <td>Warner Bros. Pictures</td>\n",
       "      <td>102 min</td>\n",
       "      <td>Drama, Romance, War</td>\n",
       "      <td>Julius J. Epstein, Howard Koch, Murray Burnett</td>\n",
       "      <td>$4,219,709</td>\n",
       "    </tr>\n",
       "    <tr>\n",
       "      <th>2</th>\n",
       "      <td>On the Waterfront</td>\n",
       "      <td>1954</td>\n",
       "      <td>Elia Kazan</td>\n",
       "      <td>Columbia Pictures</td>\n",
       "      <td>108 min</td>\n",
       "      <td>Crime, Drama, Thriller</td>\n",
       "      <td>Budd Schulberg, Malcolm Johnson, Robert Siodmak</td>\n",
       "      <td>N/A</td>\n",
       "    </tr>\n",
       "    <tr>\n",
       "      <th>3</th>\n",
       "      <td>All About Eve</td>\n",
       "      <td>1950</td>\n",
       "      <td>Joseph L. Mankiewicz</td>\n",
       "      <td>20th Century Fox</td>\n",
       "      <td>138 min</td>\n",
       "      <td>Drama</td>\n",
       "      <td>Joseph L. Mankiewicz, Mary Orr</td>\n",
       "      <td>$63,463</td>\n",
       "    </tr>\n",
       "    <tr>\n",
       "      <th>4</th>\n",
       "      <td>Moonlight</td>\n",
       "      <td>2016</td>\n",
       "      <td>Barry Jenkins</td>\n",
       "      <td>A24</td>\n",
       "      <td>111 min</td>\n",
       "      <td>Drama</td>\n",
       "      <td>Barry Jenkins, Tarell Alvin McCraney</td>\n",
       "      <td>$27,854,932</td>\n",
       "    </tr>\n",
       "    <tr>\n",
       "      <th>...</th>\n",
       "      <td>...</td>\n",
       "      <td>...</td>\n",
       "      <td>...</td>\n",
       "      <td>...</td>\n",
       "      <td>...</td>\n",
       "      <td>...</td>\n",
       "      <td>...</td>\n",
       "      <td>...</td>\n",
       "    </tr>\n",
       "    <tr>\n",
       "      <th>93</th>\n",
       "      <td>Cavalcade</td>\n",
       "      <td>1933</td>\n",
       "      <td>Frank Lloyd</td>\n",
       "      <td>Fox</td>\n",
       "      <td>112 min</td>\n",
       "      <td>Drama, Romance, War</td>\n",
       "      <td>Noël Coward, Reginald Berkeley</td>\n",
       "      <td>N/A</td>\n",
       "    </tr>\n",
       "    <tr>\n",
       "      <th>94</th>\n",
       "      <td>Out of Africa</td>\n",
       "      <td>1985</td>\n",
       "      <td>Sydney Pollack</td>\n",
       "      <td>MCA/Universal Pictures [us]</td>\n",
       "      <td>161 min</td>\n",
       "      <td>Biography, Drama, Romance</td>\n",
       "      <td>Karen Blixen, Judith Thurman, Errol Trzebinski</td>\n",
       "      <td>$87,071,205</td>\n",
       "    </tr>\n",
       "    <tr>\n",
       "      <th>95</th>\n",
       "      <td>Cimarron</td>\n",
       "      <td>1931</td>\n",
       "      <td>Wesley Ruggles</td>\n",
       "      <td>RKO Radio Pictures</td>\n",
       "      <td>123 min</td>\n",
       "      <td>Drama, Western</td>\n",
       "      <td>Edna Ferber, Howard Estabrook, Louis Sarecky</td>\n",
       "      <td>N/A</td>\n",
       "    </tr>\n",
       "    <tr>\n",
       "      <th>96</th>\n",
       "      <td>The Greatest Show on Earth</td>\n",
       "      <td>1952</td>\n",
       "      <td>Cecil B. DeMille</td>\n",
       "      <td>Paramount Pictures</td>\n",
       "      <td>152 min</td>\n",
       "      <td>Drama, Family, Romance</td>\n",
       "      <td>Fredric M. Frank, Barré Lyndon, Theodore St. John</td>\n",
       "      <td>$36,000,000</td>\n",
       "    </tr>\n",
       "    <tr>\n",
       "      <th>97</th>\n",
       "      <td>The Broadway Melody</td>\n",
       "      <td>1929</td>\n",
       "      <td>Harry Beaumont</td>\n",
       "      <td>Metro-Goldwyn-Mayer</td>\n",
       "      <td>100 min</td>\n",
       "      <td>Drama, Musical, Romance</td>\n",
       "      <td>Edmund Goulding, Norman Houston, James Gleason</td>\n",
       "      <td>N/A</td>\n",
       "    </tr>\n",
       "  </tbody>\n",
       "</table>\n",
       "<p>98 rows × 8 columns</p>\n",
       "</div>"
      ],
      "text/plain": [
       "                   Movie Title  Year Released              Director  \\\n",
       "0                     Parasite           2019          Bong Joon Ho   \n",
       "1                   Casablanca           1942        Michael Curtiz   \n",
       "2            On the Waterfront           1954            Elia Kazan   \n",
       "3                All About Eve           1950  Joseph L. Mankiewicz   \n",
       "4                    Moonlight           2016         Barry Jenkins   \n",
       "..                         ...            ...                   ...   \n",
       "93                   Cavalcade           1933           Frank Lloyd   \n",
       "94               Out of Africa           1985        Sydney Pollack   \n",
       "95                    Cimarron           1931        Wesley Ruggles   \n",
       "96  The Greatest Show on Earth           1952      Cecil B. DeMille   \n",
       "97         The Broadway Melody           1929        Harry Beaumont   \n",
       "\n",
       "                    Distributor  Runtime                      Genre  \\\n",
       "0                          NEON  132 min            Drama, Thriller   \n",
       "1         Warner Bros. Pictures  102 min        Drama, Romance, War   \n",
       "2             Columbia Pictures  108 min     Crime, Drama, Thriller   \n",
       "3              20th Century Fox  138 min                      Drama   \n",
       "4                           A24  111 min                      Drama   \n",
       "..                          ...      ...                        ...   \n",
       "93                          Fox  112 min        Drama, Romance, War   \n",
       "94  MCA/Universal Pictures [us]  161 min  Biography, Drama, Romance   \n",
       "95           RKO Radio Pictures  123 min             Drama, Western   \n",
       "96           Paramount Pictures  152 min     Drama, Family, Romance   \n",
       "97          Metro-Goldwyn-Mayer  100 min    Drama, Musical, Romance   \n",
       "\n",
       "                                            Writer(s)   Box Office  \n",
       "0                           Bong Joon Ho, Han Jin-won  $53,369,749  \n",
       "1      Julius J. Epstein, Howard Koch, Murray Burnett   $4,219,709  \n",
       "2     Budd Schulberg, Malcolm Johnson, Robert Siodmak          N/A  \n",
       "3                      Joseph L. Mankiewicz, Mary Orr      $63,463  \n",
       "4                Barry Jenkins, Tarell Alvin McCraney  $27,854,932  \n",
       "..                                                ...          ...  \n",
       "93                     Noël Coward, Reginald Berkeley          N/A  \n",
       "94     Karen Blixen, Judith Thurman, Errol Trzebinski  $87,071,205  \n",
       "95       Edna Ferber, Howard Estabrook, Louis Sarecky          N/A  \n",
       "96  Fredric M. Frank, Barré Lyndon, Theodore St. John  $36,000,000  \n",
       "97     Edmund Goulding, Norman Houston, James Gleason          N/A  \n",
       "\n",
       "[98 rows x 8 columns]"
      ]
     },
     "execution_count": 99,
     "metadata": {},
     "output_type": "execute_result"
    }
   ],
   "source": [
    "film_data = pd.DataFrame({'Movie Title': titles,\n",
    "              'Year Released': years,\n",
    "              'Director': directors,\n",
    "              \"Distributor\": distributors,\n",
    "              \"Runtime\": runtimes,\n",
    "              \"Genre\": genres,\n",
    "              \"Writer(s)\": writers,\n",
    "              \"Box Office\": revenue})\n",
    "film_data"
   ]
  }
 ],
 "metadata": {
  "kernelspec": {
   "display_name": "my_env",
   "language": "python",
   "name": "python3"
  },
  "language_info": {
   "codemirror_mode": {
    "name": "ipython",
    "version": 3
   },
   "file_extension": ".py",
   "mimetype": "text/x-python",
   "name": "python",
   "nbconvert_exporter": "python",
   "pygments_lexer": "ipython3",
   "version": "3.12.8"
  }
 },
 "nbformat": 4,
 "nbformat_minor": 2
}
