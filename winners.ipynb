{
 "cells": [
  {
   "cell_type": "code",
   "execution_count": null,
   "metadata": {},
   "outputs": [],
   "source": [
    "# from bs4 import BeautifulSoup\n",
    "# import pandas as pd\n",
    "# import numpy as np\n",
    "# import requests\n",
    "# import re\n",
    "# import urllib.parse\n",
    "# import matplotlib.pyplot as plt\n",
    "# import seaborn as sns\n",
    "# import plotly.express as px\n",
    "# from pathlib import Path\n",
    "# from io import StringIO\n",
    "# import time"
   ]
  },
  {
   "cell_type": "code",
   "execution_count": null,
   "metadata": {},
   "outputs": [],
   "source": [
    "# url = \"https://editorial.rottentomatoes.com/guide/oscars-best-and-worst-best-pictures/\"\n",
    "# r = requests.get(url)"
   ]
  },
  {
   "cell_type": "code",
   "execution_count": null,
   "metadata": {},
   "outputs": [],
   "source": [
    "# text = r.text\n",
    "# soup = BeautifulSoup(r.text, 'html.parser')"
   ]
  },
  {
   "cell_type": "code",
   "execution_count": null,
   "metadata": {},
   "outputs": [],
   "source": [
    "# div_tags = soup.find_all('div', {'class': 'article_movie_title'})"
   ]
  },
  {
   "cell_type": "code",
   "execution_count": null,
   "metadata": {},
   "outputs": [],
   "source": [
    "# titles = []\n",
    "# for div in div_tags:\n",
    "#     a_tags = div.find_all('a')\n",
    "#     for a in a_tags:\n",
    "#         titles.append(a.get_text().strip())"
   ]
  },
  {
   "cell_type": "code",
   "execution_count": null,
   "metadata": {},
   "outputs": [],
   "source": [
    "# year_tag = soup.find_all(\"span\", {\"class\":\"subtle start-year\"})\n",
    "\n",
    "# years = []\n",
    "# for entry in year_tag:\n",
    "#     year = entry.get_text().strip()\n",
    "#     year = year.replace(\"(\",\"\").replace(\")\",\"\")\n",
    "#     year = int(year)\n",
    "#     years.append(year)"
   ]
  },
  {
   "cell_type": "code",
   "execution_count": null,
   "metadata": {},
   "outputs": [],
   "source": [
    "# directors = []\n",
    "# for d in director_tags:\n",
    "#     directors.append(d.get_text().strip().replace('Directed By:', '').strip())"
   ]
  },
  {
   "cell_type": "code",
   "execution_count": null,
   "metadata": {},
   "outputs": [],
   "source": [
    "# links = []\n",
    "# for div in div_tags:\n",
    "#     link = div.find(\"a\")[\"href\"]\n",
    "#     links.append(link)"
   ]
  },
  {
   "cell_type": "code",
   "execution_count": null,
   "metadata": {},
   "outputs": [],
   "source": [
    "# distributors = []\n",
    "\n",
    "# for link in links:\n",
    "#     r_sub = requests.get(link)\n",
    "#     soup_sub = BeautifulSoup(r_sub.text)\n",
    "#     try:\n",
    "#         distributor = soup_sub.find(\"rt-text\", {\"data-qa\": \"item-value\"}).get_text().strip()\n",
    "#         distributors.append(distributor)\n",
    "#     except:     \n",
    "#         distributors.append(\"None\")\n",
    "    # try:\n",
    "    #     producer = soup_sub.find(\"rt-link\", {\"href\": \"/celebrity/\"}).get_text().strip()\n",
    "    #     producers.append(producer)\n",
    "        \n",
    "    # except:\n",
    "    #     producers.append(\"None\")"
   ]
  },
  {
   "cell_type": "code",
   "execution_count": null,
   "metadata": {},
   "outputs": [],
   "source": [
    "# with open('api2.txt', 'r') as file:\n",
    " #   apikey = file.read()"
   ]
  },
  {
   "cell_type": "code",
   "execution_count": null,
   "metadata": {},
   "outputs": [],
   "source": [
    "# runtimes = []\n",
    "# genres = []\n",
    "# writers = []\n",
    "# revenue = []\n",
    "# actors = []\n",
    "# ratings = []\n",
    "\n",
    "# for title in titles:\n",
    "#     parameters = {'apikey': apikey, \n",
    "#              't': title}\n",
    "    \n",
    "#     response = requests.get('http://www.omdbapi.com', params=parameters)\n",
    "#     film_info = response.json()\n",
    "\n",
    "#     length = film_info['Runtime']\n",
    "#     runtimes.append(length)\n",
    "\n",
    "#     genre = film_info['Genre']\n",
    "#     genres.append(genre)\n",
    "\n",
    "#     writer = film_info['Writer']\n",
    "#     writers.append(writer)\n",
    "\n",
    "#     box_office = film_info['BoxOffice']\n",
    "#     revenue.append(box_office)\n",
    "\n",
    "#     actor = film_info['Actors']\n",
    "#     actors.append(actor)\n",
    "\n",
    "#     rating = film_info['imdbRating']\n",
    "#     ratings.append(rating)"
   ]
  },
  {
   "cell_type": "code",
   "execution_count": null,
   "metadata": {},
   "outputs": [],
   "source": [
    "# best_pic_df = pd.DataFrame({'Movie Title': titles,\n",
    "#                           'Year Released': years,\n",
    "#                           \"Writer(s)\": writers,\n",
    "#                           'Director': directors,\n",
    "#                           'Leading Actors': actors,\n",
    "#                           \"Distributor\": distributors,\n",
    "#                           \"Genre\": genres,\n",
    "#                           \"IMDb Rating\": ratings,\n",
    "#                           \"Runtime\": runtimes,\n",
    "#                           \"Box Office\": revenue})\n",
    "# best_pic_df.head()"
   ]
  }
 ],
 "metadata": {
  "kernelspec": {
   "display_name": "my_env",
   "language": "python",
   "name": "python3"
  },
  "language_info": {
   "name": "python",
   "version": "3.12.8"
  }
 },
 "nbformat": 4,
 "nbformat_minor": 2
}
